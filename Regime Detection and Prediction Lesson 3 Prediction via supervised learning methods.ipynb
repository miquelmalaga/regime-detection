{
 "cells": [
  {
   "cell_type": "code",
   "execution_count": 1,
   "id": "937ba27f",
   "metadata": {},
   "outputs": [],
   "source": [
    "#https://medium.com/@tballz/market-regime-detection-and-prediction-lesson-3-prediction-via-supervised-learning-methods-16646428e602\n",
    "import yfinance as yf\n",
    "import datetime\n",
    "import pandas as pd\n",
    "import statsmodels.api as sm\n",
    "import matplotlib.pyplot as plt\n",
    "import seaborn as sns\n",
    "import numpy as np\n",
    "#import Stock_quant.ATR\n",
    "from ta.volatility import AverageTrueRange\n",
    "#import Stock_quant.wwma\n",
    "from ta.trend import WMAIndicator\n",
    "from ta.volume import VolumeWeightedAveragePrice\n",
    "from sklearn.mixture import GaussianMixture\n",
    "import sklearn.metrics\n",
    "from sklearn.tree import DecisionTreeRegressor\n",
    "from sklearn.model_selection import train_test_split\n",
    "from sklearn.model_selection import KFold, StratifiedKFold, cross_val_score\n",
    "from sklearn.metrics import mean_absolute_error\n",
    "\n",
    "df = pd.read_csv(r'D:/Downloads/df_regime.csv')\n",
    "df_replace = pd.read_csv(r'D:/Downloads/df_regime_replace.csv')\n",
    "pd.set_option('display.max_columns', None)"
   ]
  },
  {
   "cell_type": "code",
   "execution_count": 2,
   "id": "87550dfd",
   "metadata": {},
   "outputs": [
    {
     "name": "stdout",
     "output_type": "stream",
     "text": [
      "            Date  daily return  ATR_price        VIX  relative_Volume  regime  \\\n",
      "1     1990-03-01      0.002561   0.013191  21.900000         0.963171       1   \n",
      "2     1990-03-02      0.008415   0.012747  21.340000         1.004143       1   \n",
      "3     1990-03-05     -0.005365   0.012519  22.030001         0.858562       1   \n",
      "4     1990-03-06      0.012555   0.012402  20.549999         0.879717       1   \n",
      "5     1990-03-07     -0.002900   0.012082  19.100000         1.000557       1   \n",
      "...          ...           ...        ...        ...              ...     ...   \n",
      "8163  2022-07-25      0.001315   0.018995  23.360001         0.796823       1   \n",
      "8164  2022-07-26     -0.011543   0.018866  24.690001         0.826933       1   \n",
      "8165  2022-07-27      0.026156   0.019176  23.240000         0.961075       1   \n",
      "8166  2022-07-28      0.012133   0.019101  22.330000         1.050384       1   \n",
      "8167  2022-07-29      0.014208   0.018659  21.330000         1.035066       1   \n",
      "\n",
      "      regime_next  \n",
      "1             1.0  \n",
      "2             1.0  \n",
      "3             1.0  \n",
      "4             1.0  \n",
      "5             1.0  \n",
      "...           ...  \n",
      "8163          1.0  \n",
      "8164          1.0  \n",
      "8165          1.0  \n",
      "8166          1.0  \n",
      "8167          1.0  \n",
      "\n",
      "[8167 rows x 7 columns]\n"
     ]
    }
   ],
   "source": [
    "df['regime_next'] = df['regime'].shift(1) #create new column for the next day\n",
    "df = df.dropna()\n",
    "print(df)\n",
    "\n",
    "X = df[['daily return', 'ATR_price', 'VIX', 'relative_Volume', 'regime']]\n",
    "Y = df['regime_next']"
   ]
  },
  {
   "cell_type": "code",
   "execution_count": null,
   "id": "2fd0f12f",
   "metadata": {},
   "outputs": [],
   "source": []
  },
  {
   "cell_type": "code",
   "execution_count": 3,
   "id": "a75e494c",
   "metadata": {},
   "outputs": [
    {
     "name": "stdout",
     "output_type": "stream",
     "text": [
      "the MAE is:  0.07874337005303958\n",
      "the accuracy score is:  0.9216646266829865\n"
     ]
    }
   ],
   "source": [
    "# We specify that we use 30% of the total sample as our test sample,\n",
    "# the remaining 70% of the sample are randomly selected as the training data set.\n",
    "X_train, X_test, Y_train, Y_test = train_test_split(X, Y, test_size=0.3,random_state=44)\n",
    "\n",
    "# solution from comments\n",
    "#11898*0.3\n",
    "#X = X[:3569]\n",
    "#X_train, X_test, Y_train, Y_test = train_test_split(X, Y, test_size=0.3,random_state=44)\n",
    "\n",
    "\n",
    "model = DecisionTreeRegressor(random_state=44)\n",
    "model.fit(X_train, Y_train)\n",
    "predictions = model.predict(X_test)\n",
    "\n",
    "print('the MAE is: ', mean_absolute_error(Y_test, predictions))\n",
    "print('the accuracy score is: ', sklearn.metrics.accuracy_score(Y_test, predictions))\n",
    "\n",
    "#comment:\n",
    "# I think you are introducing forwardlooking bias by selecting the test set samples randomly\n",
    "# within the same timeframe as the training set. \n",
    "# You should only use test set samples that come after the last point of the training set\n",
    "# (plus an extra margin to avoid window overlap). \n",
    "# Otherwise it is pretty easy for the model to utilize future information \n",
    "# to come up with correct predictions on past testset samples,\n",
    "# which is what i suspect the high accuracy of your model stems from.\n",
    "#\n",
    "# It would be nice if you reposted it correctly,\n",
    "# and show the difference in the predictive performance.\n",
    "# I suspect the accuracy will drop to about 0.5."
   ]
  },
  {
   "cell_type": "code",
   "execution_count": 14,
   "id": "a1458c19",
   "metadata": {
    "scrolled": false
   },
   "outputs": [
    {
     "name": "stdout",
     "output_type": "stream",
     "text": [
      "the MAE is:  18.36026772529465\n"
     ]
    },
    {
     "ename": "ValueError",
     "evalue": "continuous is not supported",
     "output_type": "error",
     "traceback": [
      "\u001b[1;31m---------------------------------------------------------------------------\u001b[0m",
      "\u001b[1;31mValueError\u001b[0m                                Traceback (most recent call last)",
      "\u001b[1;32m<ipython-input-14-6cafb27ee7b5>\u001b[0m in \u001b[0;36m<module>\u001b[1;34m\u001b[0m\n\u001b[0;32m     16\u001b[0m \u001b[1;33m\u001b[0m\u001b[0m\n\u001b[0;32m     17\u001b[0m \u001b[0mprint\u001b[0m\u001b[1;33m(\u001b[0m\u001b[1;34m'the MAE is: '\u001b[0m\u001b[1;33m,\u001b[0m \u001b[0mmean_absolute_error\u001b[0m\u001b[1;33m(\u001b[0m\u001b[0mY_test\u001b[0m\u001b[1;33m,\u001b[0m \u001b[0mpredictions\u001b[0m\u001b[1;33m)\u001b[0m\u001b[1;33m)\u001b[0m\u001b[1;33m\u001b[0m\u001b[1;33m\u001b[0m\u001b[0m\n\u001b[1;32m---> 18\u001b[1;33m \u001b[0mprint\u001b[0m\u001b[1;33m(\u001b[0m\u001b[1;34m'the accuracy score is: '\u001b[0m\u001b[1;33m,\u001b[0m \u001b[0msklearn\u001b[0m\u001b[1;33m.\u001b[0m\u001b[0mmetrics\u001b[0m\u001b[1;33m.\u001b[0m\u001b[0maccuracy_score\u001b[0m\u001b[1;33m(\u001b[0m\u001b[0mY_test\u001b[0m\u001b[1;33m,\u001b[0m \u001b[0mpredictions\u001b[0m\u001b[1;33m)\u001b[0m\u001b[1;33m)\u001b[0m\u001b[1;33m\u001b[0m\u001b[1;33m\u001b[0m\u001b[0m\n\u001b[0m",
      "\u001b[1;32mC:\\ProgramData\\Anaconda3\\lib\\site-packages\\sklearn\\utils\\validation.py\u001b[0m in \u001b[0;36minner_f\u001b[1;34m(*args, **kwargs)\u001b[0m\n\u001b[0;32m     61\u001b[0m             \u001b[0mextra_args\u001b[0m \u001b[1;33m=\u001b[0m \u001b[0mlen\u001b[0m\u001b[1;33m(\u001b[0m\u001b[0margs\u001b[0m\u001b[1;33m)\u001b[0m \u001b[1;33m-\u001b[0m \u001b[0mlen\u001b[0m\u001b[1;33m(\u001b[0m\u001b[0mall_args\u001b[0m\u001b[1;33m)\u001b[0m\u001b[1;33m\u001b[0m\u001b[1;33m\u001b[0m\u001b[0m\n\u001b[0;32m     62\u001b[0m             \u001b[1;32mif\u001b[0m \u001b[0mextra_args\u001b[0m \u001b[1;33m<=\u001b[0m \u001b[1;36m0\u001b[0m\u001b[1;33m:\u001b[0m\u001b[1;33m\u001b[0m\u001b[1;33m\u001b[0m\u001b[0m\n\u001b[1;32m---> 63\u001b[1;33m                 \u001b[1;32mreturn\u001b[0m \u001b[0mf\u001b[0m\u001b[1;33m(\u001b[0m\u001b[1;33m*\u001b[0m\u001b[0margs\u001b[0m\u001b[1;33m,\u001b[0m \u001b[1;33m**\u001b[0m\u001b[0mkwargs\u001b[0m\u001b[1;33m)\u001b[0m\u001b[1;33m\u001b[0m\u001b[1;33m\u001b[0m\u001b[0m\n\u001b[0m\u001b[0;32m     64\u001b[0m \u001b[1;33m\u001b[0m\u001b[0m\n\u001b[0;32m     65\u001b[0m             \u001b[1;31m# extra_args > 0\u001b[0m\u001b[1;33m\u001b[0m\u001b[1;33m\u001b[0m\u001b[1;33m\u001b[0m\u001b[0m\n",
      "\u001b[1;32mC:\\ProgramData\\Anaconda3\\lib\\site-packages\\sklearn\\metrics\\_classification.py\u001b[0m in \u001b[0;36maccuracy_score\u001b[1;34m(y_true, y_pred, normalize, sample_weight)\u001b[0m\n\u001b[0;32m    200\u001b[0m \u001b[1;33m\u001b[0m\u001b[0m\n\u001b[0;32m    201\u001b[0m     \u001b[1;31m# Compute accuracy for each possible representation\u001b[0m\u001b[1;33m\u001b[0m\u001b[1;33m\u001b[0m\u001b[1;33m\u001b[0m\u001b[0m\n\u001b[1;32m--> 202\u001b[1;33m     \u001b[0my_type\u001b[0m\u001b[1;33m,\u001b[0m \u001b[0my_true\u001b[0m\u001b[1;33m,\u001b[0m \u001b[0my_pred\u001b[0m \u001b[1;33m=\u001b[0m \u001b[0m_check_targets\u001b[0m\u001b[1;33m(\u001b[0m\u001b[0my_true\u001b[0m\u001b[1;33m,\u001b[0m \u001b[0my_pred\u001b[0m\u001b[1;33m)\u001b[0m\u001b[1;33m\u001b[0m\u001b[1;33m\u001b[0m\u001b[0m\n\u001b[0m\u001b[0;32m    203\u001b[0m     \u001b[0mcheck_consistent_length\u001b[0m\u001b[1;33m(\u001b[0m\u001b[0my_true\u001b[0m\u001b[1;33m,\u001b[0m \u001b[0my_pred\u001b[0m\u001b[1;33m,\u001b[0m \u001b[0msample_weight\u001b[0m\u001b[1;33m)\u001b[0m\u001b[1;33m\u001b[0m\u001b[1;33m\u001b[0m\u001b[0m\n\u001b[0;32m    204\u001b[0m     \u001b[1;32mif\u001b[0m \u001b[0my_type\u001b[0m\u001b[1;33m.\u001b[0m\u001b[0mstartswith\u001b[0m\u001b[1;33m(\u001b[0m\u001b[1;34m'multilabel'\u001b[0m\u001b[1;33m)\u001b[0m\u001b[1;33m:\u001b[0m\u001b[1;33m\u001b[0m\u001b[1;33m\u001b[0m\u001b[0m\n",
      "\u001b[1;32mC:\\ProgramData\\Anaconda3\\lib\\site-packages\\sklearn\\metrics\\_classification.py\u001b[0m in \u001b[0;36m_check_targets\u001b[1;34m(y_true, y_pred)\u001b[0m\n\u001b[0;32m     98\u001b[0m     \u001b[1;31m# No metrics support \"multiclass-multioutput\" format\u001b[0m\u001b[1;33m\u001b[0m\u001b[1;33m\u001b[0m\u001b[1;33m\u001b[0m\u001b[0m\n\u001b[0;32m     99\u001b[0m     \u001b[1;32mif\u001b[0m \u001b[1;33m(\u001b[0m\u001b[0my_type\u001b[0m \u001b[1;32mnot\u001b[0m \u001b[1;32min\u001b[0m \u001b[1;33m[\u001b[0m\u001b[1;34m\"binary\"\u001b[0m\u001b[1;33m,\u001b[0m \u001b[1;34m\"multiclass\"\u001b[0m\u001b[1;33m,\u001b[0m \u001b[1;34m\"multilabel-indicator\"\u001b[0m\u001b[1;33m]\u001b[0m\u001b[1;33m)\u001b[0m\u001b[1;33m:\u001b[0m\u001b[1;33m\u001b[0m\u001b[1;33m\u001b[0m\u001b[0m\n\u001b[1;32m--> 100\u001b[1;33m         \u001b[1;32mraise\u001b[0m \u001b[0mValueError\u001b[0m\u001b[1;33m(\u001b[0m\u001b[1;34m\"{0} is not supported\"\u001b[0m\u001b[1;33m.\u001b[0m\u001b[0mformat\u001b[0m\u001b[1;33m(\u001b[0m\u001b[0my_type\u001b[0m\u001b[1;33m)\u001b[0m\u001b[1;33m)\u001b[0m\u001b[1;33m\u001b[0m\u001b[1;33m\u001b[0m\u001b[0m\n\u001b[0m\u001b[0;32m    101\u001b[0m \u001b[1;33m\u001b[0m\u001b[0m\n\u001b[0;32m    102\u001b[0m     \u001b[1;32mif\u001b[0m \u001b[0my_type\u001b[0m \u001b[1;32min\u001b[0m \u001b[1;33m[\u001b[0m\u001b[1;34m\"binary\"\u001b[0m\u001b[1;33m,\u001b[0m \u001b[1;34m\"multiclass\"\u001b[0m\u001b[1;33m]\u001b[0m\u001b[1;33m:\u001b[0m\u001b[1;33m\u001b[0m\u001b[1;33m\u001b[0m\u001b[0m\n",
      "\u001b[1;31mValueError\u001b[0m: continuous is not supported"
     ]
    },
    {
     "data": {
      "image/png": "[encoded data removed]",
      "text/plain": [
       "<Figure size 1332x756 with 1 Axes>"
      ]
     },
     "metadata": {
      "needs_background": "light"
     },
     "output_type": "display_data"
    }
   ],
   "source": [
    "#prepare test data for different test and train samples\n",
    "\n",
    "observation_count = 100\n",
    "x_var = np.linspace(start = 1, stop = 100, num = observation_count)\n",
    "np.random.seed(22)\n",
    "y_var = x_var + np.random.normal(size = observation_count, loc = 10, scale = 20)\n",
    "\n",
    "fig = plt.gcf().set_size_inches(18.5, 10.5)\n",
    "sns.scatterplot(x = x_var, y = y_var)\n",
    "x_var_2d = x_var.reshape(-1, 1)\n",
    "X_train, X_test, Y_train, Y_test = train_test_split(x_var_2d, y_var, test_size = .2, random_state = 22)\n",
    "\n",
    "model = DecisionTreeRegressor(random_state=22)\n",
    "model.fit(X_train, Y_train)\n",
    "predictions = model.predict(X_test)\n",
    "\n",
    "print('the MAE is: ', mean_absolute_error(Y_test, predictions))\n",
    "#why error? ValueError: continuous is not supported\n",
    "print('the accuracy score is: ', sklearn.metrics.accuracy_score(Y_test, predictions)) \n",
    "\n"
   ]
  },
  {
   "cell_type": "code",
   "execution_count": 11,
   "id": "8dbce279",
   "metadata": {},
   "outputs": [
    {
     "data": {
      "text/plain": [
       "20"
      ]
     },
     "execution_count": 11,
     "metadata": {},
     "output_type": "execute_result"
    }
   ],
   "source": [
    "Y_test.size"
   ]
  }
 ],
 "metadata": {
  "kernelspec": {
   "display_name": "Python 3",
   "language": "python",
   "name": "python3"
  },
  "language_info": {
   "codemirror_mode": {
    "name": "ipython",
    "version": 3
   },
   "file_extension": ".py",
   "mimetype": "text/x-python",
   "name": "python",
   "nbconvert_exporter": "python",
   "pygments_lexer": "ipython3",
   "version": "3.8.8"
  }
 },
 "nbformat": 4,
 "nbformat_minor": 5
}
